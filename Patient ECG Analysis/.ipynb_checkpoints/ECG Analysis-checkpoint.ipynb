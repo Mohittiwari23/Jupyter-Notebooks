{
 "cells": [
  {
   "cell_type": "code",
   "execution_count": 1,
   "id": "5ede66ff-c791-4169-b2bd-d3daf561fa91",
   "metadata": {},
   "outputs": [],
   "source": [
    "import pandas as pd"
   ]
  },
  {
   "cell_type": "code",
   "execution_count": 2,
   "id": "bdffc6ac-2cc9-4cf1-a224-67729f2d5551",
   "metadata": {},
   "outputs": [
    {
     "data": {
      "text/plain": [
       "((335360, 1), (389421, 1))"
      ]
     },
     "execution_count": 2,
     "metadata": {},
     "output_type": "execute_result"
    }
   ],
   "source": [
    "data1 = pd.read_csv('Normal-ECG.csv',header=None)\n",
    "data2 = pd.read_csv('Dia-ECG.csv',header=None)\n",
    "data1.shape,data2.shape"
   ]
  },
  {
   "cell_type": "markdown",
   "id": "33495d2c-2d86-41be-afc8-e7b7c5425085",
   "metadata": {},
   "source": [
    "Clean the Data"
   ]
  },
  {
   "cell_type": "code",
   "execution_count": 3,
   "id": "312fe456-0056-4ae1-aa5a-b1124b830178",
   "metadata": {},
   "outputs": [],
   "source": [
    "data1 = data1[pd.to_numeric(data1[0], errors='coerce').notnull()]\n",
    "data2 = data2[pd.to_numeric(data2[0], errors='coerce').notnull()]\n",
    "data1[0]=data1[0].astype('int32')\n",
    "data2[0]=data2[0].astype('int32')"
   ]
  },
  {
   "cell_type": "code",
   "execution_count": 4,
   "id": "e939aea1-b888-464d-9319-8964a35f0fc3",
   "metadata": {},
   "outputs": [
    {
     "data": {
      "text/plain": [
       "((335360, 1), (389120, 1))"
      ]
     },
     "execution_count": 4,
     "metadata": {},
     "output_type": "execute_result"
    }
   ],
   "source": [
    "data1.shape,data2.shape"
   ]
  },
  {
   "cell_type": "code",
   "execution_count": 5,
   "id": "52f881f8-9cdf-4013-bed6-ed5cb33f6056",
   "metadata": {},
   "outputs": [
    {
     "name": "stdout",
     "output_type": "stream",
     "text": [
      "\n",
      "First 5 Rows of Normal-ECG:      0\n",
      "0   6\n",
      "1   7\n",
      "2   9\n",
      "3  12\n",
      "4  15\n",
      "\n",
      "First 5 Rows of Dia-ECG:      0\n",
      "0 -38\n",
      "1 -23\n",
      "2 -12\n",
      "3  -6\n",
      "4  -2\n",
      "\n",
      "Size of Normal-ECG:  335360\n",
      "\n",
      "Size of Dia-Ecg:  389120\n"
     ]
    }
   ],
   "source": [
    "print(\"\\nFirst 5 Rows of Normal-ECG: \", data1.head(5))\n",
    "print(\"\\nFirst 5 Rows of Dia-ECG: \", data2.head(5))\n",
    "print(\"\\nSize of Normal-ECG: \", data1.size)\n",
    "print(\"\\nSize of Dia-Ecg: \", data2.size)"
   ]
  },
  {
   "cell_type": "code",
   "execution_count": 7,
   "id": "dd059b9d-f0e4-490e-b276-5fd513e83687",
   "metadata": {},
   "outputs": [
    {
     "data": {
      "text/plain": [
       "(-43369, -87828)"
      ]
     },
     "execution_count": 7,
     "metadata": {},
     "output_type": "execute_result"
    }
   ],
   "source": [
    "sum1=data1.sum().item()\n",
    "sum2=data2.sum().item()\n",
    "sum1,sum2"
   ]
  },
  {
   "cell_type": "code",
   "execution_count": 8,
   "id": "ebdda6f3-6fe8-402a-abd0-b0a3314d8e65",
   "metadata": {},
   "outputs": [
    {
     "data": {
      "text/plain": [
       "(-0.12932072996183205, -0.2257092927631579)"
      ]
     },
     "execution_count": 8,
     "metadata": {},
     "output_type": "execute_result"
    }
   ],
   "source": [
    "mean1 = data1.mean().item()\n",
    "mean2 = data2.mean().item()\n",
    "mean1,mean2"
   ]
  },
  {
   "cell_type": "code",
   "execution_count": 9,
   "id": "839e5c70-4c02-4b1c-9595-42e388b7687e",
   "metadata": {},
   "outputs": [
    {
     "data": {
      "text/plain": [
       "(-961, -1741)"
      ]
     },
     "execution_count": 9,
     "metadata": {},
     "output_type": "execute_result"
    }
   ],
   "source": [
    "min1 = data1.min().item()\n",
    "min2 = data2.min().item()\n",
    "min1,min2"
   ]
  },
  {
   "cell_type": "code",
   "execution_count": 10,
   "id": "dbd032e6-6609-4005-8191-ccbeacc65237",
   "metadata": {},
   "outputs": [
    {
     "data": {
      "text/plain": [
       "(735, 584)"
      ]
     },
     "execution_count": 10,
     "metadata": {},
     "output_type": "execute_result"
    }
   ],
   "source": [
    "max1 = data1.max().item()\n",
    "max2 = data2.max().item()\n",
    "max1,max2"
   ]
  },
  {
   "cell_type": "code",
   "execution_count": 11,
   "id": "cbe38e13-652b-48a4-a0af-ef0130e8f512",
   "metadata": {},
   "outputs": [
    {
     "data": {
      "text/plain": [
       "(89.98608144176865, 66.4557171553821)"
      ]
     },
     "execution_count": 11,
     "metadata": {},
     "output_type": "execute_result"
    }
   ],
   "source": [
    "std1 = data1.std().item()\n",
    "std2 = data2.std().item()\n",
    "std1,std2"
   ]
  },
  {
   "cell_type": "code",
   "execution_count": 12,
   "id": "ccced2fb-0490-4ee9-98a3-7b0820f2493c",
   "metadata": {},
   "outputs": [
    {
     "data": {
      "text/plain": [
       "(-2.0, 1.0)"
      ]
     },
     "execution_count": 12,
     "metadata": {},
     "output_type": "execute_result"
    }
   ],
   "source": [
    "med1 = data1.median().item()\n",
    "med2 = data2.median().item()\n",
    "med1,med2"
   ]
  },
  {
   "cell_type": "code",
   "execution_count": 17,
   "id": "82f0d31c-6b5b-4fa7-b6be-d1cd484a2db2",
   "metadata": {},
   "outputs": [],
   "source": [
    "name = ['Normal-ECG','Dia-ECG']\n",
    "sum = [sum1,sum2]\n",
    "mean = [mean1,mean2]\n",
    "min = [min1,min2]\n",
    "max = [max1,max2]\n",
    "std = [std1,std2]\n",
    "med = [med1,med2]"
   ]
  },
  {
   "cell_type": "code",
   "execution_count": 21,
   "id": "6ba8ab0a-cb5e-44cc-92d3-5b01b24a85de",
   "metadata": {},
   "outputs": [],
   "source": [
    "dict={'Name':name,'Sum':sum,'Mean':mean,'Minimum':min,'Maximum':max,'Standard Deviation':std,'Median':med}\n",
    "df=pd.DataFrame(dict)\n",
    "df.to_csv('Output.csv',index=False)"
   ]
  },
  {
   "cell_type": "code",
   "execution_count": 22,
   "id": "6ec2b898-bb47-4e66-97b3-a9705b1b4688",
   "metadata": {},
   "outputs": [
    {
     "data": {
      "text/html": [
       "<div>\n",
       "<style scoped>\n",
       "    .dataframe tbody tr th:only-of-type {\n",
       "        vertical-align: middle;\n",
       "    }\n",
       "\n",
       "    .dataframe tbody tr th {\n",
       "        vertical-align: top;\n",
       "    }\n",
       "\n",
       "    .dataframe thead th {\n",
       "        text-align: right;\n",
       "    }\n",
       "</style>\n",
       "<table border=\"1\" class=\"dataframe\">\n",
       "  <thead>\n",
       "    <tr style=\"text-align: right;\">\n",
       "      <th></th>\n",
       "      <th>Name</th>\n",
       "      <th>Sum</th>\n",
       "      <th>Mean</th>\n",
       "      <th>Minimum</th>\n",
       "      <th>Maximum</th>\n",
       "      <th>Standard Deviation</th>\n",
       "      <th>Median</th>\n",
       "    </tr>\n",
       "  </thead>\n",
       "  <tbody>\n",
       "    <tr>\n",
       "      <th>0</th>\n",
       "      <td>Normal-ECG</td>\n",
       "      <td>-43369</td>\n",
       "      <td>-0.129321</td>\n",
       "      <td>-961</td>\n",
       "      <td>735</td>\n",
       "      <td>89.986081</td>\n",
       "      <td>-2.0</td>\n",
       "    </tr>\n",
       "    <tr>\n",
       "      <th>1</th>\n",
       "      <td>Dia-ECG</td>\n",
       "      <td>-87828</td>\n",
       "      <td>-0.225709</td>\n",
       "      <td>-1741</td>\n",
       "      <td>584</td>\n",
       "      <td>66.455717</td>\n",
       "      <td>1.0</td>\n",
       "    </tr>\n",
       "  </tbody>\n",
       "</table>\n",
       "</div>"
      ],
      "text/plain": [
       "         Name    Sum      Mean  Minimum  Maximum  Standard Deviation  Median\n",
       "0  Normal-ECG -43369 -0.129321     -961      735           89.986081    -2.0\n",
       "1     Dia-ECG -87828 -0.225709    -1741      584           66.455717     1.0"
      ]
     },
     "execution_count": 22,
     "metadata": {},
     "output_type": "execute_result"
    }
   ],
   "source": [
    "result=pd.read_csv('Output.csv')\n",
    "result"
   ]
  }
 ],
 "metadata": {
  "kernelspec": {
   "display_name": "Python (Main)",
   "language": "python",
   "name": "myenv"
  },
  "language_info": {
   "codemirror_mode": {
    "name": "ipython",
    "version": 3
   },
   "file_extension": ".py",
   "mimetype": "text/x-python",
   "name": "python",
   "nbconvert_exporter": "python",
   "pygments_lexer": "ipython3",
   "version": "3.12.2"
  }
 },
 "nbformat": 4,
 "nbformat_minor": 5
}
